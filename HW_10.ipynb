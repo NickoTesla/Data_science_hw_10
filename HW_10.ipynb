{
  "nbformat": 4,
  "nbformat_minor": 0,
  "metadata": {
    "colab": {
      "provenance": []
    },
    "kernelspec": {
      "name": "python3",
      "display_name": "Python 3"
    },
    "language_info": {
      "name": "python"
    }
  },
  "cells": [
    {
      "cell_type": "code",
      "execution_count": 1,
      "metadata": {
        "id": "PkJd9jJIRMVN"
      },
      "outputs": [],
      "source": [
        "import tensorflow as tf\n",
        "from tensorflow.keras import layers, models\n",
        "from tensorflow.keras.datasets import fashion_mnist\n",
        "from tensorflow.keras.utils import to_categorical\n",
        "from tensorflow.keras.applications import VGG16\n",
        "from tensorflow.keras.optimizers import Adam"
      ]
    },
    {
      "cell_type": "code",
      "source": [
        "(train_images, train_labels), (test_images, test_labels) = fashion_mnist.load_data()\n",
        "train_images = train_images.reshape((60000, 28, 28, 1)).astype('float32') / 255\n",
        "test_images = test_images.reshape((10000, 28, 28, 1)).astype('float32') / 255\n",
        "train_labels = to_categorical(train_labels)\n",
        "test_labels = to_categorical(test_labels)\n",
        "\n"
      ],
      "metadata": {
        "colab": {
          "base_uri": "https://localhost:8080/"
        },
        "id": "P8LA3JCMR33H",
        "outputId": "5c45d371-9eed-4684-a2f1-2d4b6b35b893"
      },
      "execution_count": 2,
      "outputs": [
        {
          "output_type": "stream",
          "name": "stdout",
          "text": [
            "Downloading data from https://storage.googleapis.com/tensorflow/tf-keras-datasets/train-labels-idx1-ubyte.gz\n",
            "29515/29515 [==============================] - 0s 0us/step\n",
            "Downloading data from https://storage.googleapis.com/tensorflow/tf-keras-datasets/train-images-idx3-ubyte.gz\n",
            "26421880/26421880 [==============================] - 0s 0us/step\n",
            "Downloading data from https://storage.googleapis.com/tensorflow/tf-keras-datasets/t10k-labels-idx1-ubyte.gz\n",
            "5148/5148 [==============================] - 0s 0us/step\n",
            "Downloading data from https://storage.googleapis.com/tensorflow/tf-keras-datasets/t10k-images-idx3-ubyte.gz\n",
            "4422102/4422102 [==============================] - 0s 0us/step\n"
          ]
        }
      ]
    },
    {
      "cell_type": "code",
      "source": [
        "base_model = VGG16(weights='imagenet', include_top=False, input_shape=(32, 32, 3))"
      ],
      "metadata": {
        "colab": {
          "base_uri": "https://localhost:8080/"
        },
        "id": "rcPntbf5YPbD",
        "outputId": "13585ef3-02ec-49e5-faf7-f817287e1225"
      },
      "execution_count": 4,
      "outputs": [
        {
          "output_type": "stream",
          "name": "stdout",
          "text": [
            "Downloading data from https://storage.googleapis.com/tensorflow/keras-applications/vgg16/vgg16_weights_tf_dim_ordering_tf_kernels_notop.h5\n",
            "58889256/58889256 [==============================] - 0s 0us/step\n"
          ]
        }
      ]
    },
    {
      "cell_type": "code",
      "source": [
        "model = models.Sequential()\n",
        "model.add(layers.Conv2D(32, (3, 3), activation='relu', input_shape=(28, 28, 1)))\n",
        "model.add(layers.MaxPooling2D((2, 2)))\n",
        "model.add(layers.Conv2D(64, (3, 3), activation='relu'))\n",
        "model.add(layers.MaxPooling2D((2, 2)))\n",
        "model.add(layers.Conv2D(64, (3, 3), activation='relu'))\n",
        "model.add(layers.Flatten())\n",
        "model.add(layers.Dense(64, activation='relu'))\n",
        "model.add(layers.Dense(10, activation='softmax'))\n"
      ],
      "metadata": {
        "id": "alLOEyicSFvG"
      },
      "execution_count": 5,
      "outputs": []
    },
    {
      "cell_type": "code",
      "source": [
        "model.compile(optimizer='adam',\n",
        "              loss='categorical_crossentropy',\n",
        "              metrics=['accuracy'])\n"
      ],
      "metadata": {
        "id": "GVGyOVLRSPLu"
      },
      "execution_count": 6,
      "outputs": []
    },
    {
      "cell_type": "code",
      "source": [
        "history = model.fit(train_images, train_labels, epochs=10, batch_size=64, validation_split=0.2)"
      ],
      "metadata": {
        "colab": {
          "base_uri": "https://localhost:8080/"
        },
        "id": "AkP83zT2SUIx",
        "outputId": "3a6ce19f-1d37-450c-99bd-e59ccf57cc49"
      },
      "execution_count": 7,
      "outputs": [
        {
          "output_type": "stream",
          "name": "stdout",
          "text": [
            "Epoch 1/10\n",
            "750/750 [==============================] - 50s 64ms/step - loss: 0.5839 - accuracy: 0.7858 - val_loss: 0.4319 - val_accuracy: 0.8432\n",
            "Epoch 2/10\n",
            "750/750 [==============================] - 50s 67ms/step - loss: 0.3673 - accuracy: 0.8665 - val_loss: 0.3397 - val_accuracy: 0.8780\n",
            "Epoch 3/10\n",
            "750/750 [==============================] - 51s 69ms/step - loss: 0.3114 - accuracy: 0.8874 - val_loss: 0.3213 - val_accuracy: 0.8840\n",
            "Epoch 4/10\n",
            "750/750 [==============================] - 53s 71ms/step - loss: 0.2771 - accuracy: 0.8986 - val_loss: 0.2961 - val_accuracy: 0.8916\n",
            "Epoch 5/10\n",
            "750/750 [==============================] - 52s 70ms/step - loss: 0.2551 - accuracy: 0.9070 - val_loss: 0.2746 - val_accuracy: 0.9017\n",
            "Epoch 6/10\n",
            "750/750 [==============================] - 53s 71ms/step - loss: 0.2361 - accuracy: 0.9129 - val_loss: 0.2711 - val_accuracy: 0.9024\n",
            "Epoch 7/10\n",
            "750/750 [==============================] - 52s 69ms/step - loss: 0.2188 - accuracy: 0.9194 - val_loss: 0.2830 - val_accuracy: 0.8998\n",
            "Epoch 8/10\n",
            "750/750 [==============================] - 53s 70ms/step - loss: 0.2001 - accuracy: 0.9261 - val_loss: 0.2568 - val_accuracy: 0.9086\n",
            "Epoch 9/10\n",
            "750/750 [==============================] - 53s 70ms/step - loss: 0.1877 - accuracy: 0.9312 - val_loss: 0.2810 - val_accuracy: 0.9028\n",
            "Epoch 10/10\n",
            "750/750 [==============================] - 50s 67ms/step - loss: 0.1707 - accuracy: 0.9364 - val_loss: 0.2738 - val_accuracy: 0.9065\n"
          ]
        }
      ]
    },
    {
      "cell_type": "code",
      "source": [
        "test_loss, test_acc = model.evaluate(test_images, test_labels)\n",
        "print(f'Test accuracy: {test_acc}')"
      ],
      "metadata": {
        "colab": {
          "base_uri": "https://localhost:8080/"
        },
        "id": "T0h2ZzM-SbWR",
        "outputId": "6adf5945-3ae2-4e18-a14a-c17638828036"
      },
      "execution_count": 8,
      "outputs": [
        {
          "output_type": "stream",
          "name": "stdout",
          "text": [
            "313/313 [==============================] - 3s 10ms/step - loss: 0.2748 - accuracy: 0.9052\n",
            "Test accuracy: 0.9052000045776367\n"
          ]
        }
      ]
    }
  ]
}